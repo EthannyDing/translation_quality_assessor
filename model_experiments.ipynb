{
 "cells": [
  {
   "cell_type": "code",
   "execution_count": 2,
   "metadata": {},
   "outputs": [],
   "source": [
    "import numpy as np\n",
    "import tensorflow as tf\n",
    "import tensorflow_text as text\n",
    "import tensorflow_hub as hub\n",
    "from tensorflow.keras import Input, Model\n",
    "from tensorflow.keras.layers import GlobalMaxPooling1D, Dense\n",
    "from tensorflow.keras import backend as K"
   ]
  },
  {
   "cell_type": "code",
   "execution_count": 2,
   "metadata": {},
   "outputs": [],
   "source": [
    "max_seq_len = 128\n",
    "preprocessor_dir = \"/linguistics/ethan/DL_Prototype/models/universal-sentence-encoder-cmlm_multilingual-preprocess_2\"\n",
    "LaBSE_dir = \"/linguistics/ethan/DL_Prototype/models/LaBSE2\"\n",
    "\n",
    "def build_model_with_preprocessor(max_seq_len, preprocessor_dir, LaBSE_dir):\n",
    "    \n",
    "    src_texts = tf.keras.layers.Input(shape=(), dtype=tf.string, name=\"input_src_text\")\n",
    "    tgt_texts = tf.keras.layers.Input(shape=(), dtype=tf.string, name=\"input_tgt_text\")\n",
    "\n",
    "    preprocessor = hub.KerasLayer(preprocessor_dir, trainable=False)\n",
    "    encoder = hub.KerasLayer(LaBSE_dir, trainable=False)\n",
    "    \n",
    "    src_x = preprocessor(src_texts)\n",
    "    tgt_x = preprocessor(tgt_texts)\n",
    "    \n",
    "    src_x = encoder(src_x)[\"default\"]\n",
    "    tgt_x = encoder(tgt_x)[\"default\"]\n",
    "    \n",
    "    src_x = tf.math.l2_normalize(src_x, axis=1, epsilon=1e-12, name=None)\n",
    "    tgt_x = tf.math.l2_normalize(tgt_x, axis=1, epsilon=1e-12, name=None)\n",
    "    \n",
    "    # np.matmul(english_embeds, np.transpose(italian_embeds))\n",
    "    x = tf.concat([src_x, tgt_x], axis=1)\n",
    "    #  x = GlobalMaxPooling1D(x)\n",
    "    \n",
    "    x = Dense(512, activation='relu')(x)\n",
    "    x = Dense(64, activation='relu')(x)\n",
    "    output = Dense(1, activation='sigmoid')(x)\n",
    "    \n",
    "    model = Model([src_texts, tgt_texts], output)\n",
    "    \n",
    "    return model"
   ]
  },
  {
   "cell_type": "code",
   "execution_count": 5,
   "metadata": {},
   "outputs": [],
   "source": [
    "model = build_model_with_preprocessor(max_seq_len, preprocessor_dir, LaBSE_dir)"
   ]
  },
  {
   "cell_type": "code",
   "execution_count": 8,
   "metadata": {},
   "outputs": [],
   "source": [
    "num_ckpts = 2\n",
    "ckpt_weights = []\n",
    "\n",
    "for epoch in range(1, num_ckpts+1):\n",
    "    ckpt_path = f\"/linguistics/ethan/DL_Prototype/models/LaBSE2_ckpts/tqc-000{epoch}.ckpt\"\n",
    "    model.load_weights(ckpt_path)\n",
    "    weights = model.get_weights()\n",
    "    ckpt_weights.append(weights)"
   ]
  },
  {
   "cell_type": "code",
   "execution_count": 16,
   "metadata": {},
   "outputs": [
    {
     "data": {
      "text/plain": [
       "(64, 1)"
      ]
     },
     "execution_count": 16,
     "metadata": {},
     "output_type": "execute_result"
    }
   ],
   "source": [
    "ckpt_weights[0][-2].shape"
   ]
  },
  {
   "cell_type": "code",
   "execution_count": 1,
   "metadata": {},
   "outputs": [],
   "source": [
    "# averaged_weights = []\n",
    "# for weights_list_tuple in zip(*ckpt_weights):\n",
    "\n",
    "#     averaged_layer = [np.array(weights_).mean(axis=0) for weights_ in zip(weights_list_tuple)]\n",
    "#     averaged_weights.append(averaged_layer)\n",
    "\n",
    "# averaged_weights = np.array(averaged_weights)\n",
    "# model.set_weights(averaged_weights)"
   ]
  },
  {
   "cell_type": "code",
   "execution_count": 22,
   "metadata": {},
   "outputs": [
    {
     "name": "stdout",
     "output_type": "stream",
     "text": [
      "(1, 4)\n",
      "(2, 5)\n",
      "(3, 6)\n"
     ]
    }
   ],
   "source": [
    "it = [[1,2,3], [4,5,6]]\n",
    "for t in zip(*it):\n",
    "    print(t)"
   ]
  },
  {
   "cell_type": "code",
   "execution_count": null,
   "metadata": {},
   "outputs": [],
   "source": []
  },
  {
   "cell_type": "code",
   "execution_count": 159,
   "metadata": {},
   "outputs": [],
   "source": [
    "def toy_model():\n",
    "    \n",
    "    input_src = tf.keras.layers.Input(shape=(10, ), name=\"input_src_text\")\n",
    "    input_tgt = tf.keras.layers.Input(shape=(10, ), name=\"input_tgt_text\")\n",
    "    x = tf.keras.layers.concatenate([input_src, input_tgt])\n",
    "    output = tf.keras.layers.Dense(2, activation=\"softmax\")(x)\n",
    "    \n",
    "    model = tf.keras.Model([input_src, input_tgt], output)\n",
    "    \n",
    "    return model"
   ]
  },
  {
   "cell_type": "code",
   "execution_count": 104,
   "metadata": {},
   "outputs": [],
   "source": [
    "my_model = toy_model()"
   ]
  },
  {
   "cell_type": "code",
   "execution_count": 6,
   "metadata": {},
   "outputs": [
    {
     "name": "stdout",
     "output_type": "stream",
     "text": [
      "Model: \"functional_1\"\n",
      "__________________________________________________________________________________________________\n",
      "Layer (type)                    Output Shape         Param #     Connected to                     \n",
      "==================================================================================================\n",
      "input_src_text (InputLayer)     [(None, 10)]         0                                            \n",
      "__________________________________________________________________________________________________\n",
      "input_tgt_text (InputLayer)     [(None, 10)]         0                                            \n",
      "__________________________________________________________________________________________________\n",
      "concatenate (Concatenate)       (None, 20)           0           input_src_text[0][0]             \n",
      "                                                                 input_tgt_text[0][0]             \n",
      "__________________________________________________________________________________________________\n",
      "dense (Dense)                   (None, 2)            42          concatenate[0][0]                \n",
      "==================================================================================================\n",
      "Total params: 42\n",
      "Trainable params: 42\n",
      "Non-trainable params: 0\n",
      "__________________________________________________________________________________________________\n"
     ]
    }
   ],
   "source": [
    "model.summary()"
   ]
  },
  {
   "cell_type": "code",
   "execution_count": 3,
   "metadata": {},
   "outputs": [],
   "source": [
    "input_src_text = tf.random.uniform((30, 10))\n",
    "input_tgt_text = tf.random.uniform((30, 10))\n",
    "labels = np.random.randint(2, size=(30,2))\n",
    "# train_data = tf.data.Dataset.from_tensor_slices(dict(\n",
    "#                                                  x = {\"input_src_text\": input_src_text,\n",
    "#                                                       \"input_tgt_text\": input_tgt_text},\n",
    "#                                                  y = labels)).batch(5)\n",
    "train_data = tf.data.Dataset.from_tensor_slices(({\"input_src_text\": input_src_text,\n",
    "                                                  \"input_tgt_text\": input_tgt_text},\n",
    "                                                  labels)).batch(7)"
   ]
  },
  {
   "cell_type": "code",
   "execution_count": 4,
   "metadata": {},
   "outputs": [
    {
     "name": "stdout",
     "output_type": "stream",
     "text": [
      "tf.Tensor(\n",
      "[[1 0]\n",
      " [0 1]\n",
      " [0 1]\n",
      " [1 0]\n",
      " [0 1]\n",
      " [0 0]\n",
      " [1 0]], shape=(7, 2), dtype=int64)\n",
      "\n",
      "\n",
      "tf.Tensor(\n",
      "[[0 1]\n",
      " [0 1]\n",
      " [0 0]\n",
      " [1 1]\n",
      " [1 0]\n",
      " [1 0]\n",
      " [0 0]], shape=(7, 2), dtype=int64)\n",
      "\n",
      "\n",
      "tf.Tensor(\n",
      "[[1 0]\n",
      " [0 1]\n",
      " [1 1]\n",
      " [1 1]\n",
      " [1 0]\n",
      " [1 0]\n",
      " [0 0]], shape=(7, 2), dtype=int64)\n",
      "\n",
      "\n",
      "tf.Tensor(\n",
      "[[1 0]\n",
      " [1 1]\n",
      " [1 0]\n",
      " [1 0]\n",
      " [1 0]\n",
      " [0 1]\n",
      " [0 1]], shape=(7, 2), dtype=int64)\n",
      "\n",
      "\n",
      "tf.Tensor(\n",
      "[[1 1]\n",
      " [1 0]], shape=(2, 2), dtype=int64)\n",
      "\n",
      "\n"
     ]
    }
   ],
   "source": [
    "for data in train_data:\n",
    "    print(data[1])\n",
    "    print(\"\\n\")"
   ]
  },
  {
   "cell_type": "code",
   "execution_count": 5,
   "metadata": {},
   "outputs": [],
   "source": [
    "# high-level training\n",
    "# model.compile(optimizer=\"adam\",\n",
    "#               metrics=[\"accuracy\"],\n",
    "#               loss=\"binary_crossentropy\")\n",
    "# model.fit(train_data, epochs=2)\n",
    "\n",
    "# low level training with checkpoint storing and restoring\n",
    "def train_step(my_model, example, optimizer, loss_fn):\n",
    "    with tf.GradientTape() as tape:\n",
    "        output = my_model(example[0], training=True)\n",
    "        loss = loss_fn(example[1], output)\n",
    "        \n",
    "    variables = my_model.trainable_variables\n",
    "    gradient = tape.gradient(loss, variables)\n",
    "    optimizer.apply_gradients(zip(gradient, variables))\n",
    "    \n",
    "    return loss\n",
    "\n",
    "\n",
    "def train_and_checkpoint_per_step(model, steps=50):\n",
    "    ckpt.restore(manager.latest_checkpoint)\n",
    "    if manager.latest_checkpoint:\n",
    "        print(\"Restoring from {}\".format(manager.latest_checkpoint))\n",
    "    else:\n",
    "        print(\"Initializing training from scratch\")\n",
    "    for _ in range(steps):\n",
    "        example = next(iterator)\n",
    "        # print(example)\n",
    "        loss = train_step(model, example, optimizer, loss_fn)\n",
    "        ckpt.step.assign_add(1)\n",
    "        if int(ckpt.step) % 10 == 0:\n",
    "            save_path = manager.save()\n",
    "            print(\"Saved checkpoint for step {}: {}\".format(int(ckpt.step), save_path))\n",
    "            print(\"Loss {:1.2f}\".format(loss.numpy()))\n",
    "\n",
    "def train_and_checkpoint_per_epoch(model, iterator, epochs=10):\n",
    "    ckpt.restore(manager.latest_checkpoint)\n",
    "    if manager.latest_checkpoint:\n",
    "        print(\"Restoring from {}\".format(manager.latest_checkpoint))\n",
    "    else:\n",
    "        print(\"Initializing training from scratch\")\n",
    "        \n",
    "    for epoch in range(epochs):\n",
    "        print(\"\\nTraining epoch: {}\".format(epoch + 1))\n",
    "        for example in iterator:\n",
    "#             print(example)\n",
    "            loss_value = train_step(model, example, optimizer, loss_fn)\n",
    "            \n",
    "#         ckpt.step.assign_add(1)\n",
    "        save_path = manager.save()\n",
    "        print(\"\\tSaved checkpoint for epoch {}: {}\".format(epoch + 1, save_path))\n",
    "        print(\"\\tLoss at final step {:1.2f}\".format(loss_value.numpy()))"
   ]
  },
  {
   "cell_type": "code",
   "execution_count": 6,
   "metadata": {},
   "outputs": [
    {
     "ename": "NameError",
     "evalue": "name 'toy_model' is not defined",
     "output_type": "error",
     "traceback": [
      "\u001b[0;31m---------------------------------------------------------------------------\u001b[0m",
      "\u001b[0;31mNameError\u001b[0m                                 Traceback (most recent call last)",
      "\u001b[0;32m<ipython-input-6-f32154ebce10>\u001b[0m in \u001b[0;36m<module>\u001b[0;34m\u001b[0m\n\u001b[1;32m      1\u001b[0m \u001b[0;34m\"\"\"Training for first time or restoring training, remember to re-initiate ckpt and manager.\"\"\"\u001b[0m\u001b[0;34m\u001b[0m\u001b[0;34m\u001b[0m\u001b[0m\n\u001b[0;32m----> 2\u001b[0;31m \u001b[0mmy_model\u001b[0m \u001b[0;34m=\u001b[0m \u001b[0mtoy_model\u001b[0m\u001b[0;34m(\u001b[0m\u001b[0;34m)\u001b[0m\u001b[0;34m\u001b[0m\u001b[0;34m\u001b[0m\u001b[0m\n\u001b[0m\u001b[1;32m      3\u001b[0m \u001b[0moptimizer\u001b[0m \u001b[0;34m=\u001b[0m \u001b[0mtf\u001b[0m\u001b[0;34m.\u001b[0m\u001b[0mkeras\u001b[0m\u001b[0;34m.\u001b[0m\u001b[0moptimizers\u001b[0m\u001b[0;34m.\u001b[0m\u001b[0mAdam\u001b[0m\u001b[0;34m(\u001b[0m\u001b[0;36m0.1\u001b[0m\u001b[0;34m)\u001b[0m\u001b[0;34m\u001b[0m\u001b[0;34m\u001b[0m\u001b[0m\n\u001b[1;32m      4\u001b[0m \u001b[0mloss_fn\u001b[0m \u001b[0;34m=\u001b[0m \u001b[0mtf\u001b[0m\u001b[0;34m.\u001b[0m\u001b[0mkeras\u001b[0m\u001b[0;34m.\u001b[0m\u001b[0mlosses\u001b[0m\u001b[0;34m.\u001b[0m\u001b[0mBinaryCrossentropy\u001b[0m\u001b[0;34m(\u001b[0m\u001b[0mfrom_logits\u001b[0m\u001b[0;34m=\u001b[0m\u001b[0;32mTrue\u001b[0m\u001b[0;34m)\u001b[0m\u001b[0;34m\u001b[0m\u001b[0;34m\u001b[0m\u001b[0m\n\u001b[1;32m      5\u001b[0m \u001b[0mtrain_iterator\u001b[0m \u001b[0;34m=\u001b[0m \u001b[0miter\u001b[0m\u001b[0;34m(\u001b[0m\u001b[0mtrain_data\u001b[0m\u001b[0;34m)\u001b[0m\u001b[0;34m\u001b[0m\u001b[0;34m\u001b[0m\u001b[0m\n",
      "\u001b[0;31mNameError\u001b[0m: name 'toy_model' is not defined"
     ]
    }
   ],
   "source": [
    "\"\"\"Training for first time or restoring training, remember to re-initiate ckpt and manager.\"\"\"\n",
    "my_model = toy_model()\n",
    "optimizer = tf.keras.optimizers.Adam(0.1)\n",
    "loss_fn = tf.keras.losses.BinaryCrossentropy(from_logits=True)\n",
    "train_iterator = iter(train_data)\n",
    "ckpt = tf.train.Checkpoint(step=tf.Variable(1), \n",
    "                           optimizer=optimizer,\n",
    "                           net=my_model, \n",
    "                           iterator=train_iterator)\n",
    "manager = tf.train.CheckpointManager(ckpt, \"/linguistics/ethan/DL_Prototype/models/example_ckpt\", max_to_keep=3)"
   ]
  },
  {
   "cell_type": "code",
   "execution_count": 171,
   "metadata": {},
   "outputs": [
    {
     "name": "stdout",
     "output_type": "stream",
     "text": [
      "Restoring from /linguistics/ethan/DL_Prototype/models/example_ckpt/ckpt-10\n",
      "\n",
      "Training epoch: 1\n",
      "\tSaved checkpoint for epoch 1: /linguistics/ethan/DL_Prototype/models/example_ckpt/ckpt-11\n",
      "\tLoss at final step 1.00\n",
      "\n",
      "Training epoch: 2\n",
      "\tSaved checkpoint for epoch 2: /linguistics/ethan/DL_Prototype/models/example_ckpt/ckpt-12\n",
      "\tLoss at final step 1.00\n",
      "\n",
      "Training epoch: 3\n",
      "\tSaved checkpoint for epoch 3: /linguistics/ethan/DL_Prototype/models/example_ckpt/ckpt-13\n",
      "\tLoss at final step 1.00\n",
      "\n",
      "Training epoch: 4\n",
      "\tSaved checkpoint for epoch 4: /linguistics/ethan/DL_Prototype/models/example_ckpt/ckpt-14\n",
      "\tLoss at final step 1.00\n",
      "\n",
      "Training epoch: 5\n",
      "\tSaved checkpoint for epoch 5: /linguistics/ethan/DL_Prototype/models/example_ckpt/ckpt-15\n",
      "\tLoss at final step 1.00\n",
      "\n",
      "Training epoch: 6\n",
      "\tSaved checkpoint for epoch 6: /linguistics/ethan/DL_Prototype/models/example_ckpt/ckpt-16\n",
      "\tLoss at final step 1.00\n",
      "\n",
      "Training epoch: 7\n",
      "\tSaved checkpoint for epoch 7: /linguistics/ethan/DL_Prototype/models/example_ckpt/ckpt-17\n",
      "\tLoss at final step 1.00\n",
      "\n",
      "Training epoch: 8\n",
      "\tSaved checkpoint for epoch 8: /linguistics/ethan/DL_Prototype/models/example_ckpt/ckpt-18\n",
      "\tLoss at final step 1.00\n",
      "\n",
      "Training epoch: 9\n",
      "\tSaved checkpoint for epoch 9: /linguistics/ethan/DL_Prototype/models/example_ckpt/ckpt-19\n",
      "\tLoss at final step 1.00\n",
      "\n",
      "Training epoch: 10\n",
      "\tSaved checkpoint for epoch 10: /linguistics/ethan/DL_Prototype/models/example_ckpt/ckpt-20\n",
      "\tLoss at final step 1.00\n"
     ]
    }
   ],
   "source": [
    "# train_and_checkpoint_per_step(my_model, steps=50)\n",
    "train_and_checkpoint_per_epoch(my_model, train_iterator, epochs=10)\n",
    "# for e in iterator:\n",
    "#     print(e)"
   ]
  },
  {
   "cell_type": "code",
   "execution_count": 178,
   "metadata": {},
   "outputs": [
    {
     "data": {
      "text/plain": [
       "<tensorflow.python.training.tracking.util.CheckpointLoadStatus at 0x7f935412acf8>"
      ]
     },
     "execution_count": 178,
     "metadata": {},
     "output_type": "execute_result"
    }
   ],
   "source": [
    "# my_model.load_weights(manager.latest_checkpoint)\n",
    "# tf.keras.models.load_model(manager.latest_checkpoint)\n",
    "ckpt.restore(manager.latest_checkpoint)"
   ]
  },
  {
   "cell_type": "code",
   "execution_count": 181,
   "metadata": {},
   "outputs": [],
   "source": [
    "input_data = [tf.random.uniform((5, 10)), tf.random.uniform((5, 10))]"
   ]
  },
  {
   "cell_type": "code",
   "execution_count": 182,
   "metadata": {},
   "outputs": [
    {
     "data": {
      "text/plain": [
       "<tf.Tensor: shape=(5, 2), dtype=float32, numpy=\n",
       "array([[0.5499562 , 0.45004386],\n",
       "       [0.5966115 , 0.40338856],\n",
       "       [0.6039533 , 0.3960467 ],\n",
       "       [0.65478605, 0.34521392],\n",
       "       [0.6120649 , 0.38793504]], dtype=float32)>"
      ]
     },
     "execution_count": 182,
     "metadata": {},
     "output_type": "execute_result"
    }
   ],
   "source": [
    "my_model = toy_model()\n",
    "my_model(input_data)"
   ]
  },
  {
   "cell_type": "code",
   "execution_count": 183,
   "metadata": {},
   "outputs": [
    {
     "data": {
      "text/plain": [
       "<tf.Tensor: shape=(5, 2), dtype=float32, numpy=\n",
       "array([[0.46309888, 0.53690106],\n",
       "       [0.45111725, 0.5488827 ],\n",
       "       [0.533317  , 0.46668294],\n",
       "       [0.23123655, 0.7687634 ],\n",
       "       [0.55321455, 0.44678545]], dtype=float32)>"
      ]
     },
     "execution_count": 183,
     "metadata": {},
     "output_type": "execute_result"
    }
   ],
   "source": [
    "my_model = toy_model()\n",
    "my_model(input_data)"
   ]
  },
  {
   "cell_type": "code",
   "execution_count": 188,
   "metadata": {},
   "outputs": [
    {
     "data": {
      "text/plain": [
       "<tf.Tensor: shape=(5, 2), dtype=float32, numpy=\n",
       "array([[0.46309888, 0.53690106],\n",
       "       [0.45111725, 0.5488827 ],\n",
       "       [0.533317  , 0.46668294],\n",
       "       [0.23123655, 0.7687634 ],\n",
       "       [0.55321455, 0.44678545]], dtype=float32)>"
      ]
     },
     "execution_count": 188,
     "metadata": {},
     "output_type": "execute_result"
    }
   ],
   "source": [
    "ckpt = tf.train.Checkpoint(model=my_model)\n",
    "ckpt.restore(\"/linguistics/ethan/DL_Prototype/models/example_ckpt/ckpt-20\")\n",
    "my_model(input_data)"
   ]
  },
  {
   "cell_type": "code",
   "execution_count": 191,
   "metadata": {},
   "outputs": [
    {
     "ename": "TypeError",
     "evalue": "'Checkpoint' object is not callable",
     "output_type": "error",
     "traceback": [
      "\u001b[0;31m---------------------------------------------------------------------------\u001b[0m",
      "\u001b[0;31mTypeError\u001b[0m                                 Traceback (most recent call last)",
      "\u001b[0;32m<ipython-input-191-d6500be97cf1>\u001b[0m in \u001b[0;36m<module>\u001b[0;34m\u001b[0m\n\u001b[0;32m----> 1\u001b[0;31m \u001b[0mckpt\u001b[0m\u001b[0;34m(\u001b[0m\u001b[0minput_data\u001b[0m\u001b[0;34m)\u001b[0m\u001b[0;34m\u001b[0m\u001b[0;34m\u001b[0m\u001b[0m\n\u001b[0m",
      "\u001b[0;31mTypeError\u001b[0m: 'Checkpoint' object is not callable"
     ]
    }
   ],
   "source": [
    "ckpt(input_data)"
   ]
  },
  {
   "cell_type": "code",
   "execution_count": 176,
   "metadata": {},
   "outputs": [
    {
     "data": {
      "text/plain": [
       "'/linguistics/ethan/DL_Prototype/models/example_ckpt/ckpt-20'"
      ]
     },
     "execution_count": 176,
     "metadata": {},
     "output_type": "execute_result"
    }
   ],
   "source": [
    "# ckpt.step.numpy()\n",
    "# ckpt.step.assign_add(1)\n",
    "# ckpt.step.numpy()\n",
    "manager.latest_checkpoint"
   ]
  },
  {
   "cell_type": "code",
   "execution_count": 16,
   "metadata": {},
   "outputs": [
    {
     "data": {
      "text/plain": [
       "array([[0.20321831, 0.79678166],\n",
       "       [0.6461293 , 0.35387072]], dtype=float32)"
      ]
     },
     "execution_count": 16,
     "metadata": {},
     "output_type": "execute_result"
    }
   ],
   "source": [
    "model.predict([tf.random.uniform((2, 10)), tf.random.uniform((2, 10))])"
   ]
  }
 ],
 "metadata": {
  "kernelspec": {
   "display_name": "Python 3",
   "language": "python",
   "name": "python3"
  },
  "language_info": {
   "codemirror_mode": {
    "name": "ipython",
    "version": 3
   },
   "file_extension": ".py",
   "mimetype": "text/x-python",
   "name": "python",
   "nbconvert_exporter": "python",
   "pygments_lexer": "ipython3",
   "version": "3.7.3"
  }
 },
 "nbformat": 4,
 "nbformat_minor": 2
}
