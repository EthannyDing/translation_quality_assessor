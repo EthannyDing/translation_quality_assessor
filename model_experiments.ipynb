{
 "cells": [
  {
   "cell_type": "code",
   "execution_count": null,
   "metadata": {},
   "outputs": [],
   "source": [
    "import numpy as np\n",
    "import tensorflow as tf\n",
    "import tensorflow_text as text\n",
    "import tensorflow_hub as hub\n",
    "from tensorflow.keras import Input, Model\n",
    "from tensorflow.keras.layers import GlobalMaxPooling1D, Dense\n",
    "from tensorflow.keras import backend as K"
   ]
  },
  {
   "cell_type": "code",
   "execution_count": null,
   "metadata": {},
   "outputs": [],
   "source": [
    "def toy_model():\n",
    "    \n",
    "    input_src = tf.keras.layers.Input(shape=(128, ), name=\"input_src_text\")\n",
    "    input_tgt = tf.keras.layers.Input(shape=(128, ), name=\"input_tgt_text\")\n",
    "    x = tf.keras.layers.concatenate([input_src, input_tgt])\n",
    "    x = Dense(2048, activation=\"relu\")(x)\n",
    "    x = Dense(64, activation=\"relu\")(x)\n",
    "    output = tf.keras.layers.Dense(2, activation=\"softmax\")(x)\n",
    "    \n",
    "    model = tf.keras.Model([input_src, input_tgt], output)\n",
    "    \n",
    "    return model"
   ]
  },
  {
   "cell_type": "code",
   "execution_count": null,
   "metadata": {},
   "outputs": [],
   "source": [
    "with tf.device(\"/gpu:4\"):\n",
    "    my_model = toy_model()"
   ]
  },
  {
   "cell_type": "code",
   "execution_count": null,
   "metadata": {},
   "outputs": [],
   "source": [
    "my_model.summary()"
   ]
  },
  {
   "cell_type": "code",
   "execution_count": null,
   "metadata": {},
   "outputs": [],
   "source": [
    "input_src_text = tf.random.uniform((5000, 128))\n",
    "input_tgt_text = tf.random.uniform((5000, 128))\n",
    "labels = np.random.randint(2, size=(5000,2))\n",
    "# train_data = tf.data.Dataset.from_tensor_slices(dict(\n",
    "#                                                  x = {\"input_src_text\": input_src_text,\n",
    "#                                                       \"input_tgt_text\": input_tgt_text},\n",
    "#                                                  y = labels)).batch(5)\n",
    "train_data = tf.data.Dataset.from_tensor_slices(({\"input_src_text\": input_src_text,\n",
    "                                                  \"input_tgt_text\": input_tgt_text},\n",
    "                                                  labels)).batch(32)"
   ]
  },
  {
   "cell_type": "code",
   "execution_count": null,
   "metadata": {},
   "outputs": [],
   "source": [
    "\"\"\"Low level train step\"\"\"\n",
    "def train_step(my_model, example, optimizer, loss_fn):\n",
    "    with tf.GradientTape() as tape:\n",
    "        output = my_model(example[0], training=True)\n",
    "        loss = loss_fn(example[1], output)\n",
    "        \n",
    "    variables = my_model.trainable_variables\n",
    "    gradient = tape.gradient(loss, variables)\n",
    "    optimizer.apply_gradients(zip(gradient, variables))\n",
    "    \n",
    "    return loss\n",
    "\n",
    "\n",
    "def train_and_checkpoint_per_step(model, steps=50):\n",
    "    ckpt.restore(manager.latest_checkpoint)\n",
    "    if manager.latest_checkpoint:\n",
    "        print(\"Restoring from {}\".format(manager.latest_checkpoint))\n",
    "    else:\n",
    "        print(\"Initializing training from scratch\")\n",
    "    for _ in range(steps):\n",
    "        example = next(iterator)\n",
    "        # print(example)\n",
    "        loss = train_step(model, example, optimizer, loss_fn)\n",
    "        ckpt.step.assign_add(1)\n",
    "        if int(ckpt.step) % 10 == 0:\n",
    "            save_path = manager.save()\n",
    "            print(\"Saved checkpoint for step {}: {}\".format(int(ckpt.step), save_path))\n",
    "            print(\"Loss {:1.2f}\".format(loss.numpy()))\n",
    "\n",
    "\n",
    "def train_and_checkpoint_per_epoch(model, iterator, epochs=10):\n",
    "    ckpt.restore(manager.latest_checkpoint)\n",
    "    if manager.latest_checkpoint:\n",
    "        print(\"Restoring from {}\".format(manager.latest_checkpoint))\n",
    "    else:\n",
    "        print(\"Initializing training from scratch\")\n",
    "        \n",
    "    for epoch in range(epochs):\n",
    "        print(\"\\nTraining epoch: {}\".format(epoch + 1))\n",
    "        for example in iterator:\n",
    "        #  print(example)\n",
    "            loss_value = train_step(model, example, optimizer, loss_fn)\n",
    "            \n",
    "        #  ckpt.step.assign_add(1)\n",
    "        save_path = manager.save()\n",
    "        print(\"\\tSaved checkpoint for epoch {}: {}\".format(epoch + 1, save_path))\n",
    "        print(\"\\tLoss at final step {:1.2f}\".format(loss_value.numpy()))"
   ]
  },
  {
   "cell_type": "code",
   "execution_count": null,
   "metadata": {},
   "outputs": [],
   "source": [
    "\"\"\"Training for first time or restoring training, remember to re-initiate ckpt and manager.\"\"\"\n",
    "with tf.device(\"/gpu:7\"):\n",
    "    my_model = toy_model()\n",
    "optimizer = tf.keras.optimizers.Adam(0.1)\n",
    "loss_fn = tf.keras.losses.BinaryCrossentropy(from_logits=True)\n",
    "train_iterator = iter(train_data)\n",
    "ckpt = tf.train.Checkpoint(step=tf.Variable(1), \n",
    "                           optimizer=optimizer,\n",
    "                           net=my_model, \n",
    "                           #  iterator=train_iterator\n",
    "                          )\n",
    "manager = tf.train.CheckpointManager(ckpt, \"/linguistics/ethan/DL_Prototype/models/example_ckpt\", max_to_keep=3)"
   ]
  },
  {
   "cell_type": "code",
   "execution_count": null,
   "metadata": {},
   "outputs": [],
   "source": [
    "# train_and_checkpoint_per_step(my_model, steps=50)\n",
    "train_and_checkpoint_per_epoch(my_model, train_iterator, epochs=10)"
   ]
  },
  {
   "cell_type": "code",
   "execution_count": null,
   "metadata": {},
   "outputs": [],
   "source": [
    "# my_model.load_weights(manager.latest_checkpoint)\n",
    "# tf.keras.models.load_model(manager.latest_checkpoint)\n",
    "# ckpt.restore(manager.latest_checkpoint)\n",
    "# for example in train_data:\n",
    "#     print(example)\n",
    "my_model.summary()"
   ]
  },
  {
   "cell_type": "code",
   "execution_count": null,
   "metadata": {},
   "outputs": [],
   "source": [
    "input_data = [tf.random.uniform((5, 128)), tf.random.uniform((5, 128))]\n",
    "my_model.predict([tf.random.uniform((2, 128)), tf.random.uniform((2, 128))])"
   ]
  },
  {
   "cell_type": "code",
   "execution_count": null,
   "metadata": {},
   "outputs": [],
   "source": [
    "# my_model = toy_model()\n",
    "# my_model(input_data)\n",
    "my_model.save(\"/linguistics/ethan/DL_Prototype/models/example_ckpt/export/toy_model\")"
   ]
  },
  {
   "cell_type": "code",
   "execution_count": null,
   "metadata": {},
   "outputs": [],
   "source": [
    "# my_model.load_weights(\"/linguistics/ethan/DL_Prototype/models/example_ckpt/ckpt-10\")\n",
    "# tf.keras.models.load_model(\"/linguistics/ethan/DL_Prototype/models/example_ckpt/ckpt-10\")"
   ]
  },
  {
   "cell_type": "code",
   "execution_count": null,
   "metadata": {},
   "outputs": [],
   "source": [
    "# ckpt.step.numpy()\n",
    "# ckpt.step.assign_add(1)\n",
    "# ckpt.step.numpy()\n",
    "# manager.latest_checkpoint"
   ]
  },
  {
   "cell_type": "code",
   "execution_count": null,
   "metadata": {},
   "outputs": [],
   "source": [
    "export_dir= \"/linguistics/ethan/DL_Prototype/models/example_ckpt/export/toy_model_ckpt2pb\"    "
   ]
  },
  {
   "cell_type": "code",
   "execution_count": null,
   "metadata": {},
   "outputs": [],
   "source": []
  },
  {
   "cell_type": "code",
   "execution_count": null,
   "metadata": {},
   "outputs": [],
   "source": []
  },
  {
   "cell_type": "code",
   "execution_count": null,
   "metadata": {},
   "outputs": [],
   "source": []
  }
 ],
 "metadata": {
  "kernelspec": {
   "display_name": "Python 3",
   "language": "python",
   "name": "python3"
  },
  "language_info": {
   "codemirror_mode": {
    "name": "ipython",
    "version": 3
   },
   "file_extension": ".py",
   "mimetype": "text/x-python",
   "name": "python",
   "nbconvert_exporter": "python",
   "pygments_lexer": "ipython3",
   "version": "3.8.5"
  }
 },
 "nbformat": 4,
 "nbformat_minor": 2
}
