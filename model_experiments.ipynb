{
 "cells": [
  {
   "cell_type": "code",
   "execution_count": null,
   "metadata": {},
   "outputs": [],
   "source": [
    "import numpy as np\n",
    "import tensorflow as tf\n",
    "import tensorflow_text as text\n",
    "import tensorflow_hub as hub\n",
    "from tensorflow.keras import Input, Model\n",
    "from tensorflow.keras.layers import GlobalMaxPooling1D, Dense\n",
    "from tensorflow.keras import backend as K"
   ]
  },
  {
   "cell_type": "code",
   "execution_count": null,
   "metadata": {},
   "outputs": [],
   "source": [
    "max_seq_len = 128\n",
    "preprocessor_dir = \"/linguistics/ethan/DL_Prototype/models/universal-sentence-encoder-cmlm_multilingual-preprocess_2\"\n",
    "LaBSE_dir = \"/linguistics/ethan/DL_Prototype/models/LaBSE2\"\n",
    "\n",
    "def build_model_with_preprocessor(max_seq_len, preprocessor_dir, LaBSE_dir):\n",
    "    \n",
    "    src_texts = tf.keras.layers.Input(shape=(), dtype=tf.string, name=\"input_src_text\")\n",
    "    tgt_texts = tf.keras.layers.Input(shape=(), dtype=tf.string, name=\"input_tgt_text\")\n",
    "\n",
    "    preprocessor = hub.KerasLayer(preprocessor_dir, trainable=False)\n",
    "    encoder = hub.KerasLayer(LaBSE_dir, trainable=False)\n",
    "    \n",
    "    src_x = preprocessor(src_texts)\n",
    "    tgt_x = preprocessor(tgt_texts)\n",
    "    \n",
    "    src_x = encoder(src_x)[\"default\"]\n",
    "    tgt_x = encoder(tgt_x)[\"default\"]\n",
    "    \n",
    "    src_x = tf.math.l2_normalize(src_x, axis=1, epsilon=1e-12, name=None)\n",
    "    tgt_x = tf.math.l2_normalize(tgt_x, axis=1, epsilon=1e-12, name=None)\n",
    "    \n",
    "    # np.matmul(english_embeds, np.transpose(italian_embeds))\n",
    "    x = tf.concat([src_x, tgt_x], axis=1)\n",
    "    #  x = GlobalMaxPooling1D(x)\n",
    "    \n",
    "    x = Dense(512, activation='relu')(x)\n",
    "    x = Dense(64, activation='relu')(x)\n",
    "    output = Dense(1, activation='sigmoid')(x)\n",
    "    \n",
    "    model = Model([src_texts, tgt_texts], output)\n",
    "    \n",
    "    return model"
   ]
  },
  {
   "cell_type": "code",
   "execution_count": null,
   "metadata": {},
   "outputs": [],
   "source": [
    "model = build_model_with_preprocessor(max_seq_len, preprocessor_dir, LaBSE_dir)"
   ]
  },
  {
   "cell_type": "code",
   "execution_count": null,
   "metadata": {},
   "outputs": [],
   "source": [
    "num_ckpts = 2\n",
    "ckpt_weights = []\n",
    "\n",
    "for epoch in range(1, num_ckpts+1):\n",
    "    ckpt_path = f\"/linguistics/ethan/DL_Prototype/models/LaBSE2_ckpts/tqc-000{epoch}.ckpt\"\n",
    "    model.load_weights(ckpt_path)\n",
    "    weights = model.get_weights()\n",
    "    ckpt_weights.append(weights)"
   ]
  },
  {
   "cell_type": "code",
   "execution_count": null,
   "metadata": {},
   "outputs": [],
   "source": [
    "ckpt_weights[0][-2].shape"
   ]
  },
  {
   "cell_type": "code",
   "execution_count": null,
   "metadata": {},
   "outputs": [],
   "source": [
    "# averaged_weights = []\n",
    "# for weights_list_tuple in zip(*ckpt_weights):\n",
    "\n",
    "#     averaged_layer = [np.array(weights_).mean(axis=0) for weights_ in zip(weights_list_tuple)]\n",
    "#     averaged_weights.append(averaged_layer)\n",
    "\n",
    "# averaged_weights = np.array(averaged_weights)\n",
    "# model.set_weights(averaged_weights)"
   ]
  },
  {
   "cell_type": "code",
   "execution_count": null,
   "metadata": {},
   "outputs": [],
   "source": [
    "it = [[1,2,3], [4,5,6]]\n",
    "for t in zip(*it):\n",
    "    print(t)"
   ]
  },
  {
   "cell_type": "code",
   "execution_count": null,
   "metadata": {},
   "outputs": [],
   "source": []
  },
  {
   "cell_type": "code",
   "execution_count": null,
   "metadata": {},
   "outputs": [],
   "source": [
    "def toy_model():\n",
    "    \n",
    "    input_src = tf.keras.layers.Input(shape=(10, ), name=\"input_src_text\")\n",
    "    input_tgt = tf.keras.layers.Input(shape=(10, ), name=\"input_tgt_text\")\n",
    "    x = tf.keras.layers.concatenate([input_src, input_tgt])\n",
    "    output = tf.keras.layers.Dense(2, activation=\"softmax\")(x)\n",
    "    \n",
    "    model = tf.keras.Model([input_src, input_tgt], output)\n",
    "    \n",
    "    return model"
   ]
  },
  {
   "cell_type": "code",
   "execution_count": null,
   "metadata": {},
   "outputs": [],
   "source": [
    "my_model = toy_model()"
   ]
  },
  {
   "cell_type": "code",
   "execution_count": null,
   "metadata": {},
   "outputs": [],
   "source": [
    "model.summary()"
   ]
  },
  {
   "cell_type": "code",
   "execution_count": null,
   "metadata": {},
   "outputs": [],
   "source": [
    "input_src_text = tf.random.uniform((30, 10))\n",
    "input_tgt_text = tf.random.uniform((30, 10))\n",
    "labels = np.random.randint(2, size=(30,2))\n",
    "# train_data = tf.data.Dataset.from_tensor_slices(dict(\n",
    "#                                                  x = {\"input_src_text\": input_src_text,\n",
    "#                                                       \"input_tgt_text\": input_tgt_text},\n",
    "#                                                  y = labels)).batch(5)\n",
    "train_data = tf.data.Dataset.from_tensor_slices(({\"input_src_text\": input_src_text,\n",
    "                                                  \"input_tgt_text\": input_tgt_text},\n",
    "                                                  labels)).batch(7)"
   ]
  },
  {
   "cell_type": "code",
   "execution_count": null,
   "metadata": {},
   "outputs": [],
   "source": [
    "for data in train_data:\n",
    "    print(data[1])\n",
    "    print(\"\\n\")"
   ]
  },
  {
   "cell_type": "code",
   "execution_count": null,
   "metadata": {},
   "outputs": [],
   "source": [
    "# high-level training\n",
    "# model.compile(optimizer=\"adam\",\n",
    "#               metrics=[\"accuracy\"],\n",
    "#               loss=\"binary_crossentropy\")\n",
    "# model.fit(train_data, epochs=2)\n",
    "\n",
    "# low level training with checkpoint storing and restoring\n",
    "def train_step(my_model, example, optimizer, loss_fn):\n",
    "    with tf.GradientTape() as tape:\n",
    "        output = my_model(example[0], training=True)\n",
    "        loss = loss_fn(example[1], output)\n",
    "        \n",
    "    variables = my_model.trainable_variables\n",
    "    gradient = tape.gradient(loss, variables)\n",
    "    optimizer.apply_gradients(zip(gradient, variables))\n",
    "    \n",
    "    return loss\n",
    "\n",
    "\n",
    "def train_and_checkpoint_per_step(model, steps=50):\n",
    "    ckpt.restore(manager.latest_checkpoint)\n",
    "    if manager.latest_checkpoint:\n",
    "        print(\"Restoring from {}\".format(manager.latest_checkpoint))\n",
    "    else:\n",
    "        print(\"Initializing training from scratch\")\n",
    "    for _ in range(steps):\n",
    "        example = next(iterator)\n",
    "        # print(example)\n",
    "        loss = train_step(model, example, optimizer, loss_fn)\n",
    "        ckpt.step.assign_add(1)\n",
    "        if int(ckpt.step) % 10 == 0:\n",
    "            save_path = manager.save()\n",
    "            print(\"Saved checkpoint for step {}: {}\".format(int(ckpt.step), save_path))\n",
    "            print(\"Loss {:1.2f}\".format(loss.numpy()))\n",
    "\n",
    "def train_and_checkpoint_per_epoch(model, iterator, epochs=10):\n",
    "    ckpt.restore(manager.latest_checkpoint)\n",
    "    if manager.latest_checkpoint:\n",
    "        print(\"Restoring from {}\".format(manager.latest_checkpoint))\n",
    "    else:\n",
    "        print(\"Initializing training from scratch\")\n",
    "        \n",
    "    for epoch in range(epochs):\n",
    "        print(\"\\nTraining epoch: {}\".format(epoch + 1))\n",
    "        for example in iterator:\n",
    "#             print(example)\n",
    "            loss_value = train_step(model, example, optimizer, loss_fn)\n",
    "            \n",
    "#         ckpt.step.assign_add(1)\n",
    "        save_path = manager.save()\n",
    "        print(\"\\tSaved checkpoint for epoch {}: {}\".format(epoch + 1, save_path))\n",
    "        print(\"\\tLoss at final step {:1.2f}\".format(loss_value.numpy()))"
   ]
  },
  {
   "cell_type": "code",
   "execution_count": null,
   "metadata": {},
   "outputs": [],
   "source": [
    "\"\"\"Training for first time or restoring training, remember to re-initiate ckpt and manager.\"\"\"\n",
    "my_model = toy_model()\n",
    "optimizer = tf.keras.optimizers.Adam(0.1)\n",
    "loss_fn = tf.keras.losses.BinaryCrossentropy(from_logits=True)\n",
    "train_iterator = iter(train_data)\n",
    "ckpt = tf.train.Checkpoint(step=tf.Variable(1), \n",
    "                           optimizer=optimizer,\n",
    "                           net=my_model, \n",
    "                           iterator=train_iterator)\n",
    "manager = tf.train.CheckpointManager(ckpt, \"/linguistics/ethan/DL_Prototype/models/example_ckpt\", max_to_keep=3)"
   ]
  },
  {
   "cell_type": "code",
   "execution_count": null,
   "metadata": {},
   "outputs": [],
   "source": [
    "# train_and_checkpoint_per_step(my_model, steps=50)\n",
    "train_and_checkpoint_per_epoch(my_model, train_iterator, epochs=10)\n",
    "# for e in iterator:\n",
    "#     print(e)"
   ]
  },
  {
   "cell_type": "code",
   "execution_count": null,
   "metadata": {},
   "outputs": [],
   "source": [
    "# my_model.load_weights(manager.latest_checkpoint)\n",
    "# tf.keras.models.load_model(manager.latest_checkpoint)\n",
    "ckpt.restore(manager.latest_checkpoint)"
   ]
  },
  {
   "cell_type": "code",
   "execution_count": null,
   "metadata": {},
   "outputs": [],
   "source": [
    "input_data = [tf.random.uniform((5, 10)), tf.random.uniform((5, 10))]"
   ]
  },
  {
   "cell_type": "code",
   "execution_count": null,
   "metadata": {},
   "outputs": [],
   "source": [
    "my_model = toy_model()\n",
    "my_model(input_data)"
   ]
  },
  {
   "cell_type": "code",
   "execution_count": null,
   "metadata": {},
   "outputs": [],
   "source": [
    "my_model = toy_model()\n",
    "my_model(input_data)"
   ]
  },
  {
   "cell_type": "code",
   "execution_count": null,
   "metadata": {},
   "outputs": [],
   "source": [
    "ckpt = tf.train.Checkpoint(model=my_model)\n",
    "ckpt.restore(\"/linguistics/ethan/DL_Prototype/models/example_ckpt/ckpt-20\")\n",
    "my_model(input_data)"
   ]
  },
  {
   "cell_type": "code",
   "execution_count": null,
   "metadata": {},
   "outputs": [],
   "source": [
    "ckpt(input_data)"
   ]
  },
  {
   "cell_type": "code",
   "execution_count": null,
   "metadata": {},
   "outputs": [],
   "source": [
    "# ckpt.step.numpy()\n",
    "# ckpt.step.assign_add(1)\n",
    "# ckpt.step.numpy()\n",
    "manager.latest_checkpoint"
   ]
  },
  {
   "cell_type": "code",
   "execution_count": null,
   "metadata": {},
   "outputs": [],
   "source": [
    "model.predict([tf.random.uniform((2, 10)), tf.random.uniform((2, 10))])"
   ]
  }
 ],
 "metadata": {
  "kernelspec": {
   "display_name": "Python 3",
   "language": "python",
   "name": "python3"
  },
  "language_info": {
   "codemirror_mode": {
    "name": "ipython",
    "version": 3
   },
   "file_extension": ".py",
   "mimetype": "text/x-python",
   "name": "python",
   "nbconvert_exporter": "python",
   "pygments_lexer": "ipython3",
   "version": "3.7.3"
  }
 },
 "nbformat": 4,
 "nbformat_minor": 2
}
