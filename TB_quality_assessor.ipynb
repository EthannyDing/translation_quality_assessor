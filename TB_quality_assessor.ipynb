{
 "cells": [
  {
   "cell_type": "code",
   "execution_count": 1,
   "metadata": {},
   "outputs": [],
   "source": [
    "import numpy as np\n",
    "import pandas as pd\n",
    "import seaborn as sns\n",
    "import os\n",
    "\n",
    "import tensorflow as tf\n",
    "import tensorflow_text as text\n",
    "import tensorflow_hub as hub\n",
    "from tensorflow.keras import Input, Model\n",
    "from tensorflow.keras.layers import GlobalMaxPooling1D, Dense, Bidirectional, LSTM, GlobalAveragePooling1D, GlobalMaxPooling1D, Dropout, concatenate\n",
    "from tensorflow.python.client import device_lib\n",
    "from tensorflow.keras.callbacks import ModelCheckpoint, TensorBoard\n",
    "from tensorflow.keras import backend as K\n",
    "\n",
    "from sklearn.metrics import accuracy_score, confusion_matrix, recall_score, precision_score, f1_score, classification_report, roc_auc_score\n",
    "from sklearn.utils.class_weight import compute_class_weight"
   ]
  },
  {
   "cell_type": "code",
   "execution_count": 9,
   "metadata": {},
   "outputs": [
    {
     "name": "stdout",
     "output_type": "stream",
     "text": [
      "\n",
      "Importing Data\n",
      "\t1 pairs of good English-French files found.\n",
      "\t1 pairs of bad English-French files found.\n",
      "Importing Data Complete.\n",
      "\t17719 good entries\n",
      "\t3147 bad entries\n",
      "\n",
      "Train samples : 16692\n",
      "Test samples  : 4174\n",
      "\n",
      "Train samples : 15022\n",
      "Test samples  : 1670\n",
      "\n",
      "Importing Data\n",
      "\t0 pairs of good English-French files found.\n",
      "\t1 pairs of bad English-French files found.\n",
      "Importing Data Complete.\n",
      "\t0 good entries\n",
      "\t2499 bad entries\n"
     ]
    }
   ],
   "source": [
    "from preprocessing import TextPreprocess\n",
    "\n",
    "# srcLang = \"eng\"\n",
    "# tgtLang = \"fra\"\n",
    "# src_vocab_size = 20000\n",
    "# src_len = 150\n",
    "# tgt_vocab_size = 20000\n",
    "# tgt_len = 150\n",
    "train_data_dir = \"/linguistics/ethan/DL_Prototype/datasets/TB_TQA/tb_train_cleaned\"\n",
    "synthetic_data_dir = \"/linguistics/ethan/DL_Prototype/datasets/TB_TQA/synthetic/mix_gender_replace_article_delete_2500\"\n",
    "label_class_map = {\"good\": 1, \"bad\": 0}\n",
    "tp = TextPreprocess()\n",
    "train_dataset, test_dataset = tp.create_datasets(\n",
    "                                                train_data_dir,\n",
    "                                                label_class_map,\n",
    "                                                train_test_split_train_ratio=0.8,\n",
    "                                                data_generator=False,\n",
    "                                                batch_size=32,\n",
    "                                                num_classes=2,\n",
    "                                                onehot_encoding=False,\n",
    "                                                shuffle=True,\n",
    "                                                random_state=1)\n",
    "\n",
    "train_dataset, val_dataset = tp.train_test_split(train_dataset[0][0],\n",
    "                                                 train_dataset[0][1],\n",
    "                                                 train_dataset[1],\n",
    "                                                 train_ratio=0.9)\n",
    "\n",
    "syn_src, syn_tgt, syn_labels = tp.read_dataset_from_directory(synthetic_data_dir,\n",
    "                                                              label_class_map,\n",
    "                                                              shuffle=True,\n",
    "                                                              random_state=1,\n",
    "                                                              drop_duplicates=True)"
   ]
  },
  {
   "cell_type": "code",
   "execution_count": 3,
   "metadata": {},
   "outputs": [],
   "source": []
  },
  {
   "cell_type": "code",
   "execution_count": 10,
   "metadata": {},
   "outputs": [],
   "source": [
    "\"\"\"merge training data with synthetic data, make sure to shuffle data again after merging.\"\"\"\n",
    "INCLUDE_SYNTHETIC = False\n",
    "\n",
    "unique_classes = np.array([0, 1])\n",
    "\n",
    "if INCLUDE_SYNTHETIC:\n",
    "    train_src_text = np.array(list(train_dataset[0][0]) + list(syn_src))\n",
    "    train_tgt_text = np.array(list(train_dataset[0][1]) + list(syn_tgt))\n",
    "    train_labels = np.array(list(train_dataset[1]) + list(syn_labels))\n",
    "\n",
    "    train_src_text, train_tgt_text, train_labels = tp.suffle_data(train_src_text,\n",
    "                                                                  train_tgt_text,\n",
    "                                                                  train_labels,\n",
    "                                                                  random_state=1)\n",
    "\n",
    "    # train_labels = train_dataset[1]\n",
    "    weights = compute_class_weight(\"balanced\", unique_classes, train_labels)\n",
    "\n",
    "    print(\"Total training samples after addin synthetic data: {}\".format(len(train_labels)))\n",
    "    train_dataset = tf.data.Dataset.from_tensor_slices(({\"input_src_text\": train_src_text,\n",
    "                                                         \"input_tgt_text\": train_tgt_text},\n",
    "                                                        train_labels)).batch(32)\n",
    "\n",
    "else:\n",
    "    weights = compute_class_weight(\"balanced\", unique_classes, train_dataset[1])\n",
    "    train_dataset = tf.data.Dataset.from_tensor_slices(({\"input_src_text\": train_dataset[0][0],\n",
    "                                                     \"input_tgt_text\": train_dataset[0][1]},\n",
    "                                                    train_dataset[1])).batch(32)\n",
    "\n",
    "class_weight = dict(zip(unique_classes, weights)) \n",
    "val_dataset = tf.data.Dataset.from_tensor_slices(({\"input_src_text\": val_dataset[0][0],\n",
    "                                                   \"input_tgt_text\": val_dataset[0][1]},\n",
    "                                                  val_dataset[1])).batch(32)"
   ]
  },
  {
   "cell_type": "code",
   "execution_count": 35,
   "metadata": {},
   "outputs": [],
   "source": [
    "# print(len(train_src_text))\n",
    "# print(len(set(zip(train_src_text, train_tgt_text))))\n",
    "# print(train_dataset)"
   ]
  },
  {
   "cell_type": "code",
   "execution_count": 11,
   "metadata": {},
   "outputs": [
    {
     "data": {
      "text/plain": [
       "17521"
      ]
     },
     "execution_count": 11,
     "metadata": {},
     "output_type": "execute_result"
    }
   ],
   "source": [
    "train_labels[-100: ]\n",
    "class_weight\n",
    "len(train_labels)"
   ]
  },
  {
   "cell_type": "code",
   "execution_count": null,
   "metadata": {},
   "outputs": [],
   "source": [
    "for instances, labels in train_dataset.take(1):\n",
    "    print(instances)\n",
    "    print(labels)"
   ]
  },
  {
   "cell_type": "code",
   "execution_count": 12,
   "metadata": {},
   "outputs": [],
   "source": [
    "def multilingual_LaBSE_FF(preprocessor_dir, LaBSE_dir):\n",
    "    \n",
    "    src_texts = tf.keras.layers.Input(shape=(), dtype=tf.string, name=\"input_src_text\")\n",
    "    tgt_texts = tf.keras.layers.Input(shape=(), dtype=tf.string, name=\"input_tgt_text\")\n",
    "\n",
    "    preprocessor = hub.KerasLayer(preprocessor_dir, trainable=False)\n",
    "    encoder = hub.KerasLayer(LaBSE_dir, trainable=False)\n",
    "    \n",
    "    src_x = preprocessor(src_texts)\n",
    "    tgt_x = preprocessor(tgt_texts)\n",
    "    \n",
    "    src_x = encoder(src_x)[\"default\"]\n",
    "    tgt_x = encoder(tgt_x)[\"default\"]\n",
    "    \n",
    "    src_x = tf.math.l2_normalize(src_x, axis=1, epsilon=1e-12, name=None)\n",
    "    tgt_x = tf.math.l2_normalize(tgt_x, axis=1, epsilon=1e-12, name=None)\n",
    "    \n",
    "    # np.matmul(english_embeds, np.transpose(italian_embeds))\n",
    "    x = tf.concat([src_x, tgt_x], axis=1)\n",
    "    #  x = GlobalMaxPooling1D(x)\n",
    "\n",
    "    x = Dense(128, activation='relu')(x)\n",
    "    x = Dense(8, activation='relu')(x)\n",
    "    output = Dense(1, activation='sigmoid')(x)\n",
    "    \n",
    "    model = Model([src_texts, tgt_texts], output)\n",
    "    \n",
    "    return model\n",
    "\n",
    "\n",
    "def multilingual_LaBSE_BiLSTM(preprocessor_dir, LaBSE_dir):\n",
    "    \n",
    "    src_texts = tf.keras.layers.Input(shape=(), dtype=tf.string, name=\"input_src_text\")\n",
    "    tgt_texts = tf.keras.layers.Input(shape=(), dtype=tf.string, name=\"input_tgt_text\")\n",
    "\n",
    "    preprocessor = hub.KerasLayer(preprocessor_dir, trainable=False)\n",
    "    encoder = hub.KerasLayer(LaBSE_dir, trainable=False)\n",
    "    \n",
    "    src_x = preprocessor(src_texts)\n",
    "    tgt_x = preprocessor(tgt_texts)\n",
    "    \n",
    "    src_x = encoder(src_x)[\"sequence_output\"]\n",
    "    tgt_x = encoder(tgt_x)[\"sequence_output\"]\n",
    "    \n",
    "    src_x = tf.math.l2_normalize(src_x, axis=1, epsilon=1e-12, name=None)\n",
    "    tgt_x = tf.math.l2_normalize(tgt_x, axis=1, epsilon=1e-12, name=None)\n",
    "    \n",
    "    x = tf.concat([src_x, tgt_x], axis=-1)\n",
    "    \n",
    "    bi_lstm = Bidirectional(LSTM(768, return_sequences=True))(x)\n",
    "    avg_pool = GlobalAveragePooling1D()(bi_lstm)\n",
    "    max_pool = GlobalMaxPooling1D()(bi_lstm)\n",
    "    concat = concatenate([avg_pool, max_pool])\n",
    "    dropout = Dropout(0.3)(concat)\n",
    "    \n",
    "    output = Dense(1, activation='sigmoid')(dropout)\n",
    "    model = Model([src_texts, tgt_texts], output)\n",
    "    \n",
    "    return model\n",
    "\n",
    "def multilingual_LaBSE_2BiLSTM_FF(preprocessor_dir, LaBSE_dir, max_len):\n",
    "    \n",
    "    src_texts = tf.keras.layers.Input(shape=(), dtype=tf.string, name=\"input_src_text\")\n",
    "    tgt_texts = tf.keras.layers.Input(shape=(), dtype=tf.string, name=\"input_tgt_text\")\n",
    "\n",
    "    preprocessor = hub.KerasLayer(preprocessor_dir, trainable=False)\n",
    "    encoder = hub.KerasLayer(LaBSE_dir, trainable=False)\n",
    "    \n",
    "    src_x = preprocessor(src_texts)\n",
    "    tgt_x = preprocessor(tgt_texts)\n",
    "    \n",
    "    src_x = encoder(src_x)[\"sequence_output\"]\n",
    "    tgt_x = encoder(tgt_x)[\"sequence_output\"]\n",
    "    \n",
    "    src_x = src_x[:, :max_len, :]\n",
    "    tgt_x = tgt_x[:, :max_len, :]\n",
    "    \n",
    "    src_x = tf.math.l2_normalize(src_x, axis=-1, epsilon=1e-12, name=None)\n",
    "    tgt_x = tf.math.l2_normalize(tgt_x, axis=-1, epsilon=1e-12, name=None)\n",
    "    \n",
    "    src_bi_lstm = Bidirectional(LSTM(128, return_sequences=True), name=\"src_bi_lstm\")(src_x)\n",
    "    tgt_bi_lstm = Bidirectional(LSTM(128, return_sequences=True), name=\"tgt_bi_lstm\")(tgt_x)\n",
    "    \n",
    "    src_avg_pool = GlobalAveragePooling1D(name=\"src_global_avg_pooling\")(src_bi_lstm)\n",
    "    tgt_avg_pool = GlobalAveragePooling1D(name=\"tgt_global_avg_pooling\")(tgt_bi_lstm)\n",
    "    \n",
    "    concat = concatenate([src_avg_pool, tgt_avg_pool])\n",
    "    dropout = Dropout(0.3)(concat)\n",
    "    x = Dense(64, activation=\"relu\")(dropout)\n",
    "    \n",
    "    output = Dense(1, activation='sigmoid')(x)\n",
    "    model = Model([src_texts, tgt_texts], output)\n",
    "    \n",
    "    return model"
   ]
  },
  {
   "cell_type": "code",
   "execution_count": 14,
   "metadata": {},
   "outputs": [],
   "source": [
    "\"\"\"Hyper-parameter settings\"\"\"\n",
    "\n",
    "epochs = 15\n",
    "max_len = 10\n",
    "loss_fn = \"binary_crossentropy\"\n",
    "learning_rate = 0.001\n",
    "optimizer = tf.keras.optimizers.Adam(learning_rate=learning_rate, decay=learning_rate/epochs)\n",
    "metrics = [\"accuracy\"]\n",
    "\n",
    "preprocessor_dir = \"/linguistics/ethan/DL_Prototype/models/universal-sentence-encoder-cmlm_multilingual-preprocess_2\"\n",
    "LaBSE_dir = \"/linguistics/ethan/DL_Prototype/models/LaBSE2_encoder\"\n",
    "\n",
    "checkpoint_path = \"/linguistics/ethan/DL_Prototype/models/TBqa/3.3.Multilingual-LaBSE-BiLSTM-movingLR-original-data/tqc-{epoch:04d}.ckpt\"\n",
    "checkpoint_dir = os.path.dirname(checkpoint_path)\n",
    "ckpt_callback = ModelCheckpoint(checkpoint_path, \n",
    "                           save_best_only=True,\n",
    "                           save_weights_only=True,\n",
    "                           monitor=\"val_accuracy\",\n",
    "                           mode=\"max\",\n",
    "                           save_freq='epoch') # Save weights, every epoch.\n",
    "tensorboard_callback = TensorBoard(log_dir=checkpoint_path, histogram_freq=1)"
   ]
  },
  {
   "cell_type": "code",
   "execution_count": 15,
   "metadata": {
    "scrolled": true
   },
   "outputs": [
    {
     "name": "stdout",
     "output_type": "stream",
     "text": [
      "INFO:tensorflow:Using MirroredStrategy with devices ('/job:localhost/replica:0/task:0/device:GPU:5', '/job:localhost/replica:0/task:0/device:GPU:6', '/job:localhost/replica:0/task:0/device:GPU:7')\n",
      "Model: \"functional_1\"\n",
      "__________________________________________________________________________________________________\n",
      "Layer (type)                    Output Shape         Param #     Connected to                     \n",
      "==================================================================================================\n",
      "input_src_text (InputLayer)     [(None,)]            0                                            \n",
      "__________________________________________________________________________________________________\n",
      "input_tgt_text (InputLayer)     [(None,)]            0                                            \n",
      "__________________________________________________________________________________________________\n",
      "keras_layer (KerasLayer)        {'input_word_ids': ( 0           input_src_text[0][0]             \n",
      "                                                                 input_tgt_text[0][0]             \n",
      "__________________________________________________________________________________________________\n",
      "keras_layer_1 (KerasLayer)      {'pooled_output': (N 470926849   keras_layer[0][0]                \n",
      "                                                                 keras_layer[0][1]                \n",
      "                                                                 keras_layer[0][2]                \n",
      "                                                                 keras_layer[1][0]                \n",
      "                                                                 keras_layer[1][1]                \n",
      "                                                                 keras_layer[1][2]                \n",
      "__________________________________________________________________________________________________\n",
      "tf_op_layer_Square (TensorFlowO [(None, None, 768)]  0           keras_layer_1[0][14]             \n",
      "__________________________________________________________________________________________________\n",
      "tf_op_layer_Square_1 (TensorFlo [(None, None, 768)]  0           keras_layer_1[1][14]             \n",
      "__________________________________________________________________________________________________\n",
      "tf_op_layer_Sum (TensorFlowOpLa [(None, 1, 768)]     0           tf_op_layer_Square[0][0]         \n",
      "__________________________________________________________________________________________________\n",
      "tf_op_layer_Sum_1 (TensorFlowOp [(None, 1, 768)]     0           tf_op_layer_Square_1[0][0]       \n",
      "__________________________________________________________________________________________________\n",
      "tf_op_layer_Maximum (TensorFlow [(None, 1, 768)]     0           tf_op_layer_Sum[0][0]            \n",
      "__________________________________________________________________________________________________\n",
      "tf_op_layer_Maximum_1 (TensorFl [(None, 1, 768)]     0           tf_op_layer_Sum_1[0][0]          \n",
      "__________________________________________________________________________________________________\n",
      "tf_op_layer_Rsqrt (TensorFlowOp [(None, 1, 768)]     0           tf_op_layer_Maximum[0][0]        \n",
      "__________________________________________________________________________________________________\n",
      "tf_op_layer_Rsqrt_1 (TensorFlow [(None, 1, 768)]     0           tf_op_layer_Maximum_1[0][0]      \n",
      "__________________________________________________________________________________________________\n",
      "tf_op_layer_Mul (TensorFlowOpLa [(None, None, 768)]  0           keras_layer_1[0][14]             \n",
      "                                                                 tf_op_layer_Rsqrt[0][0]          \n",
      "__________________________________________________________________________________________________\n",
      "tf_op_layer_Mul_1 (TensorFlowOp [(None, None, 768)]  0           keras_layer_1[1][14]             \n",
      "                                                                 tf_op_layer_Rsqrt_1[0][0]        \n",
      "__________________________________________________________________________________________________\n",
      "tf_op_layer_concat (TensorFlowO [(None, None, 1536)] 0           tf_op_layer_Mul[0][0]            \n",
      "                                                                 tf_op_layer_Mul_1[0][0]          \n",
      "__________________________________________________________________________________________________\n",
      "bidirectional (Bidirectional)   (None, None, 1536)   14161920    tf_op_layer_concat[0][0]         \n",
      "__________________________________________________________________________________________________\n",
      "global_average_pooling1d (Globa (None, 1536)         0           bidirectional[0][0]              \n",
      "__________________________________________________________________________________________________\n",
      "global_max_pooling1d (GlobalMax (None, 1536)         0           bidirectional[0][0]              \n",
      "__________________________________________________________________________________________________\n",
      "concatenate (Concatenate)       (None, 3072)         0           global_average_pooling1d[0][0]   \n",
      "                                                                 global_max_pooling1d[0][0]       \n",
      "__________________________________________________________________________________________________\n",
      "dropout (Dropout)               (None, 3072)         0           concatenate[0][0]                \n",
      "__________________________________________________________________________________________________\n",
      "dense (Dense)                   (None, 1)            3073        dropout[0][0]                    \n",
      "==================================================================================================\n",
      "Total params: 485,091,842\n",
      "Trainable params: 14,164,993\n",
      "Non-trainable params: 470,926,849\n",
      "__________________________________________________________________________________________________\n",
      "None\n",
      "Epoch 1/15\n",
      "WARNING:tensorflow:From /linguistics/ethan/anaconda3/lib/python3.8/site-packages/tensorflow/python/data/ops/multi_device_iterator_ops.py:601: get_next_as_optional (from tensorflow.python.data.ops.iterator_ops) is deprecated and will be removed in a future version.\n",
      "Instructions for updating:\n",
      "Use `tf.data.Iterator.get_next_as_optional()` instead.\n",
      "INFO:tensorflow:batch_all_reduce: 8 all-reduces with algorithm = nccl, num_packs = 1\n",
      "INFO:tensorflow:Reduce to /job:localhost/replica:0/task:0/device:CPU:0 then broadcast to ('/job:localhost/replica:0/task:0/device:CPU:0',).\n",
      "INFO:tensorflow:Reduce to /job:localhost/replica:0/task:0/device:CPU:0 then broadcast to ('/job:localhost/replica:0/task:0/device:CPU:0',).\n",
      "INFO:tensorflow:Reduce to /job:localhost/replica:0/task:0/device:CPU:0 then broadcast to ('/job:localhost/replica:0/task:0/device:CPU:0',).\n",
      "INFO:tensorflow:Reduce to /job:localhost/replica:0/task:0/device:CPU:0 then broadcast to ('/job:localhost/replica:0/task:0/device:CPU:0',).\n",
      "INFO:tensorflow:batch_all_reduce: 8 all-reduces with algorithm = nccl, num_packs = 1\n",
      "INFO:tensorflow:Reduce to /job:localhost/replica:0/task:0/device:CPU:0 then broadcast to ('/job:localhost/replica:0/task:0/device:CPU:0',).\n",
      "INFO:tensorflow:Reduce to /job:localhost/replica:0/task:0/device:CPU:0 then broadcast to ('/job:localhost/replica:0/task:0/device:CPU:0',).\n",
      "INFO:tensorflow:Reduce to /job:localhost/replica:0/task:0/device:CPU:0 then broadcast to ('/job:localhost/replica:0/task:0/device:CPU:0',).\n",
      "INFO:tensorflow:Reduce to /job:localhost/replica:0/task:0/device:CPU:0 then broadcast to ('/job:localhost/replica:0/task:0/device:CPU:0',).\n",
      "470/470 [==============================] - ETA: 0s - loss: 0.3984 - accuracy: 0.8078INFO:tensorflow:Reduce to /job:localhost/replica:0/task:0/device:CPU:0 then broadcast to ('/job:localhost/replica:0/task:0/device:CPU:0',).\n",
      "INFO:tensorflow:Reduce to /job:localhost/replica:0/task:0/device:CPU:0 then broadcast to ('/job:localhost/replica:0/task:0/device:CPU:0',).\n",
      "470/470 [==============================] - 92s 195ms/step - loss: 0.3984 - accuracy: 0.8078 - val_loss: 0.3073 - val_accuracy: 0.8527\n",
      "Epoch 2/15\n",
      "470/470 [==============================] - 84s 178ms/step - loss: 0.2930 - accuracy: 0.8579 - val_loss: 0.2905 - val_accuracy: 0.8790\n",
      "Epoch 3/15\n",
      "470/470 [==============================] - 85s 180ms/step - loss: 0.2313 - accuracy: 0.8905 - val_loss: 0.2700 - val_accuracy: 0.8820\n",
      "Epoch 4/15\n",
      "470/470 [==============================] - 86s 184ms/step - loss: 0.1713 - accuracy: 0.9179 - val_loss: 0.2631 - val_accuracy: 0.8916\n",
      "Epoch 5/15\n",
      "470/470 [==============================] - 83s 177ms/step - loss: 0.1417 - accuracy: 0.9317 - val_loss: 0.3102 - val_accuracy: 0.8874\n",
      "Epoch 6/15\n",
      "470/470 [==============================] - 84s 179ms/step - loss: 0.1129 - accuracy: 0.9481 - val_loss: 0.3765 - val_accuracy: 0.8635\n",
      "Epoch 7/15\n",
      "470/470 [==============================] - 88s 188ms/step - loss: 0.0757 - accuracy: 0.9678 - val_loss: 0.3879 - val_accuracy: 0.8976\n",
      "Epoch 8/15\n",
      "470/470 [==============================] - 88s 187ms/step - loss: 0.0639 - accuracy: 0.9728 - val_loss: 0.5400 - val_accuracy: 0.8994\n",
      "Epoch 9/15\n",
      "470/470 [==============================] - 88s 188ms/step - loss: 0.0530 - accuracy: 0.9777 - val_loss: 0.5172 - val_accuracy: 0.9036\n",
      "Epoch 10/15\n",
      "470/470 [==============================] - 89s 189ms/step - loss: 0.0463 - accuracy: 0.9812 - val_loss: 0.5379 - val_accuracy: 0.9060\n",
      "Epoch 11/15\n",
      "470/470 [==============================] - 84s 179ms/step - loss: 0.0428 - accuracy: 0.9837 - val_loss: 0.4864 - val_accuracy: 0.9060\n",
      "Epoch 12/15\n",
      "470/470 [==============================] - 85s 180ms/step - loss: 0.0357 - accuracy: 0.9870 - val_loss: 0.4785 - val_accuracy: 0.8922\n",
      "Epoch 13/15\n",
      "470/470 [==============================] - 84s 180ms/step - loss: 0.0284 - accuracy: 0.9895 - val_loss: 0.4815 - val_accuracy: 0.8910\n",
      "Epoch 14/15\n",
      "470/470 [==============================] - 85s 181ms/step - loss: 0.0241 - accuracy: 0.9911 - val_loss: 0.4802 - val_accuracy: 0.9024\n",
      "Epoch 15/15\n",
      "470/470 [==============================] - 85s 181ms/step - loss: 0.0213 - accuracy: 0.9915 - val_loss: 0.5379 - val_accuracy: 0.9030\n"
     ]
    }
   ],
   "source": [
    "mirrored_strategy = tf.distribute.MirroredStrategy(devices=[\"/gpu:5\", \"/gpu:6\", \"/gpu:7\"])\n",
    "with mirrored_strategy.scope():\n",
    "    tqc = multilingual_LaBSE_BiLSTM(preprocessor_dir, LaBSE_dir)\n",
    "    #  tqc = multilingual_LaBSE_2BiLSTM_FF(preprocessor_dir, LaBSE_dir, max_len=128)\n",
    "    print(tqc.summary())\n",
    "    tqc.compile(optimizer=optimizer,\n",
    "                loss=loss_fn,\n",
    "                metrics=metrics)\n",
    "    tqc.fit(\n",
    "            train_dataset,\n",
    "            validation_data=val_dataset,\n",
    "            epochs=epochs,\n",
    "            callbacks=[ckpt_callback],\n",
    "            class_weight=class_weight\n",
    "           )"
   ]
  },
  {
   "cell_type": "code",
   "execution_count": 6,
   "metadata": {},
   "outputs": [],
   "source": [
    "with tf.device(\"/gpu:6\"):\n",
    "    #  tqc = multilingual_LaBSE_BiLSTM(preprocessor_dir, LaBSE_dir)\n",
    "    tqc = multilingual_LaBSE_2BiLSTM_FF(preprocessor_dir, LaBSE_dir, max_len=10)"
   ]
  },
  {
   "cell_type": "code",
   "execution_count": 12,
   "metadata": {},
   "outputs": [],
   "source": [
    "# tqc.summary()\n",
    "# tf.keras.utils.plot_model(tqc, \"./model4.2.png\", show_shapes=True)"
   ]
  },
  {
   "cell_type": "code",
   "execution_count": 29,
   "metadata": {},
   "outputs": [],
   "source": [
    "# list(test_dataset[1] == preds.reshape(-1,))[:50]\n",
    "# print(test_dataset[1][:11])\n",
    "# print(preds.reshape(-1,)[:11])\n",
    "# test_dataset[0][0]"
   ]
  },
  {
   "cell_type": "code",
   "execution_count": null,
   "metadata": {},
   "outputs": [],
   "source": [
    "tqc.evaluate(test_dataset)"
   ]
  },
  {
   "cell_type": "code",
   "execution_count": 20,
   "metadata": {
    "scrolled": true
   },
   "outputs": [
    {
     "data": {
      "text/plain": [
       "<tensorflow.python.training.tracking.util.CheckpointLoadStatus at 0x7f0dfc707c10>"
      ]
     },
     "execution_count": 20,
     "metadata": {},
     "output_type": "execute_result"
    }
   ],
   "source": [
    "\"\"\"Save and load model\"\"\"\n",
    "model_dir = \"/linguistics/ethan/DL_Prototype/models/TBqa/3.3.Multilingual-LaBSE-BiLSTM-movingLR-original-data/tqc-0010.ckpt\"\n",
    "# tqc.save(model_dir)\n",
    "# mirrored_strategy = tf.distribute.MirroredStrategy(devices=[\"/gpu:5\", \"/gpu:6\", \"/gpu:7\"])\n",
    "# with mirrored_strategy.scope():\n",
    "#     tqc = tf.keras.models.load_model(model_dir)\n",
    "tqc.load_weights(model_dir)"
   ]
  },
  {
   "cell_type": "code",
   "execution_count": 19,
   "metadata": {},
   "outputs": [],
   "source": [
    "def output_misclassified_examples(y_true, y_pred, examples, output_file):\n",
    "\n",
    "    misclassified_index = y_true != y_pred\n",
    "    #  print(misclassified_index)\n",
    "    src_terms = examples[0][misclassified_index]\n",
    "    tgt_terms = examples[1][misclassified_index]\n",
    "    true_labels = y_true[misclassified_index]\n",
    "    pred_labels = y_pred[misclassified_index]\n",
    "    df = pd.DataFrame({\"source\": src_terms, \"target\": tgt_terms,\n",
    "                       \"true_label\": true_labels, \"pred_label\": pred_labels})\n",
    "    # print(df)\n",
    "    df.to_excel(output_file, header=True, index=None)\n",
    "\n",
    "output_file = \"/linguistics/ethan/DL_Prototype/TB_quality_assessor.misclassified.xlsx\"\n",
    "output_misclassified_examples(test_dataset[1], preds.reshape(-1, ), test_dataset[0], output_file)"
   ]
  },
  {
   "cell_type": "code",
   "execution_count": 21,
   "metadata": {},
   "outputs": [],
   "source": [
    "predictions = tqc.predict(list(test_dataset[0]))\n",
    "preds = np.where(predictions > 0.5, 1, 0).reshape(-1, )"
   ]
  },
  {
   "cell_type": "code",
   "execution_count": null,
   "metadata": {},
   "outputs": [],
   "source": [
    "preds = np.where(predictions > 0.5, 1, 0)\n",
    "# cm = confusion_matrix(test_dataset[1], preds)\n",
    "# sns.heatmap(cm, annot=True)\n",
    "# sns.heatmap(cm/np.sum(cm), annot=True, fmt='.2%', cmap='Blues')"
   ]
  },
  {
   "cell_type": "code",
   "execution_count": 17,
   "metadata": {},
   "outputs": [
    {
     "name": "stdout",
     "output_type": "stream",
     "text": [
      "              precision    recall  f1-score   support\n",
      "\n",
      "           0       0.75      0.69      0.72       606\n",
      "           1       0.95      0.96      0.95      3568\n",
      "\n",
      "    accuracy                           0.92      4174\n",
      "   macro avg       0.85      0.83      0.84      4174\n",
      "weighted avg       0.92      0.92      0.92      4174\n",
      "\n"
     ]
    },
    {
     "data": {
      "image/png": "[encoded data removed]",
      "text/plain": [
       "<Figure size 720x504 with 2 Axes>"
      ]
     },
     "metadata": {
      "needs_background": "light"
     },
     "output_type": "display_data"
    }
   ],
   "source": [
    "import matplotlib.pyplot as plt\n",
    "def plot_confusion_matrix(y_true, y_pred):\n",
    "    cm = confusion_matrix(y_true, preds)\n",
    "    df_cm = pd.DataFrame(cm/np.sum(cm), columns=np.unique(y_true), index=np.unique(y_true))\n",
    "    df_cm.index.name = 'Actual'\n",
    "    df_cm.columns.name = 'Predicted'\n",
    "    plt.figure(figsize = (10,7))\n",
    "    # sns.set(font_scale=1.4)#for label size\n",
    "    sns.heatmap(df_cm, cmap=\"Blues\", annot=True, fmt='.2%', annot_kws={\"size\": 16})\n",
    "    #print(\"\\nAccuracy: {}\".format(accuracy_score(y_true, y_pred)))\n",
    "    #print(\"Recall: {}\".format(recall_score(y_true, y_pred)))\n",
    "    #print(\"precision: {}\".format(precision_score(y_true, y_pred)))\n",
    "    #print(\"f1: {}\".format(f1_score(y_true, y_pred)))\n",
    "    print(classification_report(y_true, y_pred))\n",
    "\n",
    "plot_confusion_matrix(test_dataset[1], preds)"
   ]
  },
  {
   "cell_type": "code",
   "execution_count": 23,
   "metadata": {
    "scrolled": true
   },
   "outputs": [
    {
     "name": "stdout",
     "output_type": "stream",
     "text": [
      "              precision    recall  f1-score   support\n",
      "\n",
      "           0       0.79      0.63      0.70       606\n",
      "           1       0.94      0.97      0.95      3568\n",
      "\n",
      "    accuracy                           0.92      4174\n",
      "   macro avg       0.86      0.80      0.83      4174\n",
      "weighted avg       0.92      0.92      0.92      4174\n",
      "\n"
     ]
    },
    {
     "data": {
      "image/png": "[encoded data removed]",
      "text/plain": [
       "<Figure size 720x504 with 2 Axes>"
      ]
     },
     "metadata": {
      "needs_background": "light"
     },
     "output_type": "display_data"
    }
   ],
   "source": [
    "plot_confusion_matrix(test_dataset[1], preds)"
   ]
  },
  {
   "cell_type": "code",
   "execution_count": 21,
   "metadata": {},
   "outputs": [
    {
     "data": {
      "text/html": [
       "<div>\n",
       "<style scoped>\n",
       "    .dataframe tbody tr th:only-of-type {\n",
       "        vertical-align: middle;\n",
       "    }\n",
       "\n",
       "    .dataframe tbody tr th {\n",
       "        vertical-align: top;\n",
       "    }\n",
       "\n",
       "    .dataframe thead th {\n",
       "        text-align: right;\n",
       "    }\n",
       "</style>\n",
       "<table border=\"1\" class=\"dataframe\">\n",
       "  <thead>\n",
       "    <tr style=\"text-align: right;\">\n",
       "      <th></th>\n",
       "      <th>Threshold</th>\n",
       "      <th>Accuracy</th>\n",
       "      <th>Recall_0</th>\n",
       "      <th>Precision_0</th>\n",
       "      <th>F1_0</th>\n",
       "      <th>Recall_1</th>\n",
       "      <th>Precision_1</th>\n",
       "      <th>F1_1</th>\n",
       "      <th>Roc-Auc</th>\n",
       "    </tr>\n",
       "  </thead>\n",
       "  <tbody>\n",
       "    <tr>\n",
       "      <th>0</th>\n",
       "      <td>0.1</td>\n",
       "      <td>0.920903</td>\n",
       "      <td>0.981559</td>\n",
       "      <td>0.929365</td>\n",
       "      <td>0.954749</td>\n",
       "      <td>0.981559</td>\n",
       "      <td>0.929365</td>\n",
       "      <td>0.954749</td>\n",
       "      <td>0.948422</td>\n",
       "    </tr>\n",
       "    <tr>\n",
       "      <th>1</th>\n",
       "      <td>0.2</td>\n",
       "      <td>0.920903</td>\n",
       "      <td>0.967868</td>\n",
       "      <td>0.940793</td>\n",
       "      <td>0.954139</td>\n",
       "      <td>0.967868</td>\n",
       "      <td>0.940793</td>\n",
       "      <td>0.954139</td>\n",
       "      <td>0.948422</td>\n",
       "    </tr>\n",
       "    <tr>\n",
       "      <th>2</th>\n",
       "      <td>0.3</td>\n",
       "      <td>0.918765</td>\n",
       "      <td>0.958648</td>\n",
       "      <td>0.946483</td>\n",
       "      <td>0.952526</td>\n",
       "      <td>0.958648</td>\n",
       "      <td>0.946483</td>\n",
       "      <td>0.952526</td>\n",
       "      <td>0.948422</td>\n",
       "    </tr>\n",
       "    <tr>\n",
       "      <th>3</th>\n",
       "      <td>0.4</td>\n",
       "      <td>0.914727</td>\n",
       "      <td>0.948310</td>\n",
       "      <td>0.951233</td>\n",
       "      <td>0.949769</td>\n",
       "      <td>0.948310</td>\n",
       "      <td>0.951233</td>\n",
       "      <td>0.949769</td>\n",
       "      <td>0.948422</td>\n",
       "    </tr>\n",
       "    <tr>\n",
       "      <th>4</th>\n",
       "      <td>0.5</td>\n",
       "      <td>0.912827</td>\n",
       "      <td>0.939648</td>\n",
       "      <td>0.957029</td>\n",
       "      <td>0.948259</td>\n",
       "      <td>0.939648</td>\n",
       "      <td>0.957029</td>\n",
       "      <td>0.948259</td>\n",
       "      <td>0.948422</td>\n",
       "    </tr>\n",
       "    <tr>\n",
       "      <th>5</th>\n",
       "      <td>0.6</td>\n",
       "      <td>0.911164</td>\n",
       "      <td>0.932383</td>\n",
       "      <td>0.961949</td>\n",
       "      <td>0.946935</td>\n",
       "      <td>0.932383</td>\n",
       "      <td>0.961949</td>\n",
       "      <td>0.946935</td>\n",
       "      <td>0.948422</td>\n",
       "    </tr>\n",
       "    <tr>\n",
       "      <th>6</th>\n",
       "      <td>0.7</td>\n",
       "      <td>0.905938</td>\n",
       "      <td>0.920648</td>\n",
       "      <td>0.967127</td>\n",
       "      <td>0.943315</td>\n",
       "      <td>0.920648</td>\n",
       "      <td>0.967127</td>\n",
       "      <td>0.943315</td>\n",
       "      <td>0.948422</td>\n",
       "    </tr>\n",
       "    <tr>\n",
       "      <th>7</th>\n",
       "      <td>0.8</td>\n",
       "      <td>0.892399</td>\n",
       "      <td>0.899693</td>\n",
       "      <td>0.971635</td>\n",
       "      <td>0.934281</td>\n",
       "      <td>0.899693</td>\n",
       "      <td>0.971635</td>\n",
       "      <td>0.934281</td>\n",
       "      <td>0.948422</td>\n",
       "    </tr>\n",
       "    <tr>\n",
       "      <th>8</th>\n",
       "      <td>0.9</td>\n",
       "      <td>0.867458</td>\n",
       "      <td>0.866443</td>\n",
       "      <td>0.974851</td>\n",
       "      <td>0.917456</td>\n",
       "      <td>0.866443</td>\n",
       "      <td>0.974851</td>\n",
       "      <td>0.917456</td>\n",
       "      <td>0.948422</td>\n",
       "    </tr>\n",
       "  </tbody>\n",
       "</table>\n",
       "</div>"
      ],
      "text/plain": [
       "   Threshold  Accuracy  Recall_0  Precision_0      F1_0  Recall_1  \\\n",
       "0        0.1  0.920903  0.981559     0.929365  0.954749  0.981559   \n",
       "1        0.2  0.920903  0.967868     0.940793  0.954139  0.967868   \n",
       "2        0.3  0.918765  0.958648     0.946483  0.952526  0.958648   \n",
       "3        0.4  0.914727  0.948310     0.951233  0.949769  0.948310   \n",
       "4        0.5  0.912827  0.939648     0.957029  0.948259  0.939648   \n",
       "5        0.6  0.911164  0.932383     0.961949  0.946935  0.932383   \n",
       "6        0.7  0.905938  0.920648     0.967127  0.943315  0.920648   \n",
       "7        0.8  0.892399  0.899693     0.971635  0.934281  0.899693   \n",
       "8        0.9  0.867458  0.866443     0.974851  0.917456  0.866443   \n",
       "\n",
       "   Precision_1      F1_1   Roc-Auc  \n",
       "0     0.929365  0.954749  0.948422  \n",
       "1     0.940793  0.954139  0.948422  \n",
       "2     0.946483  0.952526  0.948422  \n",
       "3     0.951233  0.949769  0.948422  \n",
       "4     0.957029  0.948259  0.948422  \n",
       "5     0.961949  0.946935  0.948422  \n",
       "6     0.967127  0.943315  0.948422  \n",
       "7     0.971635  0.934281  0.948422  \n",
       "8     0.974851  0.917456  0.948422  "
      ]
     },
     "execution_count": 21,
     "metadata": {},
     "output_type": "execute_result"
    }
   ],
   "source": [
    "# tqc.summary()\n",
    "# for i, data in enumerate(train_dataset):\n",
    "#     print(i)\n",
    "\n",
    "def evaluate(predictions, true_labels, labels):\n",
    "    records = []\n",
    "    for threshold in np.linspace(0.1, 0.9, num=9):\n",
    "        pred = [1 if p > threshold else 0 for p in predictions]\n",
    "        acc = accuracy_score(true_labels, pred)\n",
    "        rec_0 = recall_score(true_labels, pred, labels=[0,1])\n",
    "        pre_0 = precision_score(true_labels, pred, labels=[0,1])\n",
    "        f1_0 = f1_score(true_labels, pred, labels=[0,1])\n",
    "        \n",
    "        rec_1 = recall_score(true_labels, pred, labels=[1,0])\n",
    "        pre_1 = precision_score(true_labels, pred, labels=[1,0])\n",
    "        f1_1 = f1_score(true_labels, pred, labels=[1,0])\n",
    "        roc_auc = roc_auc_score(true_labels, predictions)\n",
    "        records.append((threshold, acc, rec_0, pre_0, f1_0, rec_1, pre_1, f1_1, roc_auc))\n",
    "\n",
    "        df = pd.DataFrame(records, columns=[\"Threshold\", \"Accuracy\", \n",
    "                                            \"Recall_0\", \"Precision_0\", \"F1_0\", \n",
    "                                            \"Recall_1\", \"Precision_1\", \"F1_1\",\n",
    "                                            \"Roc-Auc\"])\n",
    "    return df\n",
    "\n",
    "evaluate(predictions, test_dataset[1], labels=[1,0])"
   ]
  },
  {
   "cell_type": "code",
   "execution_count": 17,
   "metadata": {},
   "outputs": [],
   "source": [
    "\"\"\"Compute LaBSE output\"\"\"\n",
    "import bert\n",
    "import numpy as np\n",
    "import tensorflow as tf\n",
    "import tensorflow_hub as hub\n",
    "import tensorflow_text as text\n",
    "\n",
    "def get_model(model_url, max_seq_length):\n",
    "    \n",
    "    labse_layer = hub.KerasLayer(model_url, trainable=False)\n",
    "\n",
    "      # Define input.\n",
    "    input_word_ids = tf.keras.layers.Input(shape=(max_seq_length,), dtype=tf.int32,\n",
    "                                             name=\"input_word_ids\")\n",
    "    input_mask = tf.keras.layers.Input(shape=(max_seq_length,), dtype=tf.int32,\n",
    "                                     name=\"input_mask\")\n",
    "    segment_ids = tf.keras.layers.Input(shape=(max_seq_length,), dtype=tf.int32,\n",
    "                                      name=\"segment_ids\")\n",
    "\n",
    "    # LaBSE layer.\n",
    "    pooled_output,  _ = labse_layer([input_word_ids, input_mask, segment_ids])\n",
    "\n",
    "    # The embedding is l2 normalized.\n",
    "    pooled_output = tf.keras.layers.Lambda(\n",
    "      lambda x: tf.nn.l2_normalize(x, axis=1))(pooled_output)\n",
    "\n",
    "    # Define model.\n",
    "    return tf.keras.Model(inputs=[input_word_ids, input_mask, segment_ids],\n",
    "                          outputs=pooled_output), labse_layer\n",
    "\n",
    "def create_input(input_strings, tokenizer, max_seq_length):\n",
    "\n",
    "    input_ids_all, input_mask_all, segment_ids_all = [], [], []\n",
    "    for input_string in input_strings:\n",
    "        # Tokenize input.\n",
    "        input_tokens = [\"[CLS]\"] + tokenizer.tokenize(input_string) + [\"[SEP]\"]\n",
    "        input_ids = tokenizer.convert_tokens_to_ids(input_tokens)\n",
    "        sequence_length = min(len(input_ids), max_seq_length)\n",
    "\n",
    "        # Padding or truncation.\n",
    "        if len(input_ids) >= max_seq_length:\n",
    "            input_ids = input_ids[:max_seq_length]\n",
    "        else:\n",
    "            input_ids = input_ids + [0] * (max_seq_length - len(input_ids))\n",
    "\n",
    "        input_mask = [1] * sequence_length + [0] * (max_seq_length - sequence_length)\n",
    "\n",
    "        input_ids_all.append(input_ids)\n",
    "        input_mask_all.append(input_mask)\n",
    "        segment_ids_all.append([0] * max_seq_length)\n",
    "\n",
    "    return np.array(input_ids_all), np.array(input_mask_all), np.array(segment_ids_all)\n",
    "\n",
    "def encode(input_text):\n",
    "    input_ids, input_mask, segment_ids = create_input(\n",
    "    input_text, tokenizer, max_seq_length)\n",
    "    return labse_model([input_ids, input_mask, segment_ids])\n",
    "\n",
    "def construct_model(max_seq_length=64):\n",
    "    \n",
    "    model_dir = \"/linguistics/ethan/DL_Prototype/models/LaBSE_1\"\n",
    "    mirrored_strategy = tf.distribute.MirroredStrategy(devices=[\"/gpu:5\", \"/gpu:6\", \"/gpu:7\"])\n",
    "    with mirrored_strategy.scope():\n",
    "        labse_model, labse_layer = get_model(model_url=model_dir, \n",
    "                                             max_seq_length=max_seq_length)\n",
    "\n",
    "    vocab_file = labse_layer.resolved_object.vocab_file.asset_path.numpy()\n",
    "    do_lower_case = labse_layer.resolved_object.do_lower_case.numpy()\n",
    "    tokenizer = bert.bert_tokenization.FullTokenizer(vocab_file, do_lower_case)\n",
    "    \n",
    "    return labse_model, tokenizer\n",
    "\n",
    "def compute_embeddings(input_texts, tokenizer, max_seq_length, labse_model):\n",
    "    \n",
    "    input_ids, input_mask, segment_ids = create_input(input_texts, tokenizer, max_seq_length)\n",
    "    \n",
    "    return labse_model([input_ids, input_mask, segment_ids])"
   ]
  },
  {
   "cell_type": "code",
   "execution_count": 18,
   "metadata": {},
   "outputs": [
    {
     "name": "stdout",
     "output_type": "stream",
     "text": [
      "INFO:tensorflow:Using MirroredStrategy with devices ('/job:localhost/replica:0/task:0/device:GPU:5', '/job:localhost/replica:0/task:0/device:GPU:6', '/job:localhost/replica:0/task:0/device:GPU:7')\n"
     ]
    },
    {
     "name": "stderr",
     "output_type": "stream",
     "text": [
      "INFO:tensorflow:Using MirroredStrategy with devices ('/job:localhost/replica:0/task:0/device:GPU:5', '/job:localhost/replica:0/task:0/device:GPU:6', '/job:localhost/replica:0/task:0/device:GPU:7')\n"
     ]
    }
   ],
   "source": [
    "max_seq_length=64\n",
    "labse_model, tokenizer = construct_model(max_seq_length)\n",
    "# model = hub.KerasLayer(\"\", trainable=False)"
   ]
  },
  {
   "cell_type": "code",
   "execution_count": 23,
   "metadata": {},
   "outputs": [],
   "source": [
    "inputs = [\"This is a test\", \"hello world\", \"give me a translation\"] * 50\n",
    "max_seq_length=64\n",
    "embedding = compute_embeddings(inputs, tokenizer, max_seq_length, labse_model)"
   ]
  },
  {
   "cell_type": "code",
   "execution_count": 38,
   "metadata": {},
   "outputs": [
    {
     "name": "stdout",
     "output_type": "stream",
     "text": [
      "WARNING:tensorflow:6 out of the last 10 calls to <function recreate_function.<locals>.restored_function_body at 0x7fa9086b7310> triggered tf.function retracing. Tracing is expensive and the excessive number of tracings could be due to (1) creating @tf.function repeatedly in a loop, (2) passing tensors with different shapes, (3) passing Python objects instead of tensors. For (1), please define your @tf.function outside of the loop. For (2), @tf.function has experimental_relax_shapes=True option that relaxes argument shapes that can avoid unnecessary retracing. For (3), please refer to https://www.tensorflow.org/tutorials/customization/performance#python_or_tensor_args and https://www.tensorflow.org/api_docs/python/tf/function for  more details.\n"
     ]
    },
    {
     "name": "stderr",
     "output_type": "stream",
     "text": [
      "WARNING:tensorflow:6 out of the last 10 calls to <function recreate_function.<locals>.restored_function_body at 0x7fa9086b7310> triggered tf.function retracing. Tracing is expensive and the excessive number of tracings could be due to (1) creating @tf.function repeatedly in a loop, (2) passing tensors with different shapes, (3) passing Python objects instead of tensors. For (1), please define your @tf.function outside of the loop. For (2), @tf.function has experimental_relax_shapes=True option that relaxes argument shapes that can avoid unnecessary retracing. For (3), please refer to https://www.tensorflow.org/tutorials/customization/performance#python_or_tensor_args and https://www.tensorflow.org/api_docs/python/tf/function for  more details.\n"
     ]
    }
   ],
   "source": [
    "import pandas as pd\n",
    "filepath = \"/linguistics/ethan/DL_Prototype/datasets/TB_TQA/Unlabeled/Human_QA_finance_202102.tb_extracted.10k.xlsx\"\n",
    "df = pd.read_excel(filepath)\n",
    "en_embedding_one = compute_embeddings(df[\"source\"].to_numpy()[:2000], tokenizer, max_seq_length, labse_model)\n",
    "fr_embedding_one = compute_embeddings(df[\"target\"].to_numpy()[:2000], tokenizer, max_seq_length, labse_model)\n",
    "\n",
    "en_embedding_two = compute_embeddings(df[\"source\"].to_numpy()[2000:], tokenizer, max_seq_length, labse_model)\n",
    "fr_embedding_two = compute_embeddings(df[\"target\"].to_numpy()[2000:], tokenizer, max_seq_length, labse_model)"
   ]
  },
  {
   "cell_type": "code",
   "execution_count": 42,
   "metadata": {},
   "outputs": [],
   "source": [
    "en_embedding = tf.concat([en_embedding_one, en_embedding_two], axis=0)\n",
    "fr_embedding = tf.concat([fr_embedding_one, fr_embedding_two], axis=0)"
   ]
  },
  {
   "cell_type": "code",
   "execution_count": 44,
   "metadata": {},
   "outputs": [
    {
     "name": "stdout",
     "output_type": "stream",
     "text": [
      "(4932, 768)\n",
      "(4932, 768)\n"
     ]
    }
   ],
   "source": [
    "print(en_embedding.shape)\n",
    "print(fr_embedding.shape)\n",
    "import pickle, json\n",
    "filepath = \"/linguistics/ethan/DL_Prototype/datasets/TB_TQA/Unlabeled/tb_extracted_20210526.5k.pkl\"\n",
    "data_dict = {\"en_texts\": df[\"source\"].to_numpy(),\n",
    "             \"fr_texts\": df[\"target\"].to_numpy(),\n",
    "             \"en_embedding\": en_embedding,\n",
    "             \"fr_embedding\": fr_embedding}\n",
    "\n",
    "with open(filepath, 'wb') as f:\n",
    "    pickle.dump(data_dict, f)"
   ]
  }
 ],
 "metadata": {
  "kernelspec": {
   "display_name": "Python 3",
   "language": "python",
   "name": "python3"
  },
  "language_info": {
   "codemirror_mode": {
    "name": "ipython",
    "version": 3
   },
   "file_extension": ".py",
   "mimetype": "text/x-python",
   "name": "python",
   "nbconvert_exporter": "python",
   "pygments_lexer": "ipython3",
   "version": "3.8.5"
  }
 },
 "nbformat": 4,
 "nbformat_minor": 4
}
